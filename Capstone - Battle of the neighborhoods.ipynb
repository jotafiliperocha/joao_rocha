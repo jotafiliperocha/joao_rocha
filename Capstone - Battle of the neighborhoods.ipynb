{
    "cells": [
        {
            "metadata": {
                "collapsed": true
            },
            "cell_type": "markdown",
            "source": "# Capstone Project - The Battle of the Neighborhoods (Week 1)\n\nJoao Rocha\u00b4s Applied Data Science Capstone by IBM/Coursera"
        },
        {
            "metadata": {},
            "cell_type": "markdown",
            "source": "##### Table of contents\n- Introduction: Business Problem\n\n- Data"
        },
        {
            "metadata": {},
            "cell_type": "markdown",
            "source": "##### Introduction: Business Problem \n\nIn this project, i am going to analyze the cities of Lisbon and Oporto, to determine between them, which one is more homogeneous in terms of most common venues, in order to help tourists decide which one they are going to visit in a trip to Portugal, and might feel more comfortable doing so\n\nI will apply some Data Science techniques, such as Clustering by K-Means, and visualization tools like Folium, to help understand better the purpose of the project. A final discussion and conclusion will determine which city is more promising"
        },
        {
            "metadata": {},
            "cell_type": "markdown",
            "source": "##### Data \n\nFor this project, I will be using:\n\n- Data from Wikipedia, about neighborhoods and their geolocation, from the cities of Lisbon and Oporto, assembled and saved as an excel spreadsheet and then loaded into the model as a data frame\n\n\n- Afterwards will extract the venues from those locations from Foursquare API\n\n\n- Then develop the model with Python tools, applying cluster analysis and data visualization techniques, to obtain the final conclusions\n\n"
        },
        {
            "metadata": {},
            "cell_type": "code",
            "source": "",
            "execution_count": null,
            "outputs": []
        }
    ],
    "metadata": {
        "kernelspec": {
            "name": "python3",
            "display_name": "Python 3.6",
            "language": "python"
        },
        "language_info": {
            "name": "python",
            "version": "3.6.9",
            "mimetype": "text/x-python",
            "codemirror_mode": {
                "name": "ipython",
                "version": 3
            },
            "pygments_lexer": "ipython3",
            "nbconvert_exporter": "python",
            "file_extension": ".py"
        }
    },
    "nbformat": 4,
    "nbformat_minor": 1
}